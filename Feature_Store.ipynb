{
  "nbformat": 4,
  "nbformat_minor": 0,
  "metadata": {
    "colab": {
      "name": "Feature Store.ipynb",
      "provenance": [],
      "collapsed_sections": [
        "D1dwtH_4Qbe5",
        "qzOSuB-P-rz6",
        "tbjxAykZwveS",
        "VXb8YqI0JsUN",
        "XpAl9Jr0U5P9",
        "HJkgR8cRKc6y",
        "XXYwtNBnNVu8"
      ]
    },
    "kernelspec": {
      "name": "python3",
      "display_name": "Python 3"
    },
    "language_info": {
      "name": "python"
    }
  },
  "cells": [
    {
      "cell_type": "markdown",
      "source": [
        "# Implementing a Feature Store to predict loan eligibility\n"
      ],
      "metadata": {
        "id": "cmiWKUPXQAza"
      }
    },
    {
      "cell_type": "markdown",
      "source": [
        "## Feature Store Explainer"
      ],
      "metadata": {
        "id": "D1dwtH_4Qbe5"
      }
    },
    {
      "cell_type": "markdown",
      "source": [
        "### What is a feature store?\n"
      ],
      "metadata": {
        "id": "qzOSuB-P-rz6"
      }
    },
    {
      "cell_type": "markdown",
      "source": [
        "Before we dive into what a feature store is, quick refresher: in machine learning, a feature is data used as input in a predictive model. It is the x in f(x) = y\n",
        "\n",
        "A feature store is an ML-specific system that:\n",
        "\n",
        "- Transform raw data into feature values for use by ML models - think a data pipeline\n",
        "- Stores and manages this feature data, and\n",
        "- Serves feature data consistently for training and inference purposes\n",
        "\n",
        "#### What problem are feature stores trying to solve?\n",
        "\n",
        "Feature stores are trying to solve 3 problems:\n",
        "\n",
        "* When an ML model is trained on preprocessed data, it is necessary to carry out the identical steps on incoming prediction requests. This is because we need to provide the model data with the same characteristics as the data it was trained on. If we don’t do that, we will get a difference between training and serving, and the model predictions will not be as good.\n",
        "* Many companies will use the same features across a variety of models and so it is a central hub for those features to be used by many models. Feature stores make sure there is no repetitive engineering setup as well as different pre-processing steps for the same features\n",
        "* It takes care of the engineering burden making sure features are pre-loaded into low-latency storage without the engineering work as well as making sure that these features were calculated the same way"
      ],
      "metadata": {
        "id": "vY3F6xSt-vDu"
      }
    },
    {
      "cell_type": "markdown",
      "source": [
        "### When to use a feature store\n",
        "\n"
      ],
      "metadata": {
        "id": "tbjxAykZwveS"
      }
    },
    {
      "cell_type": "markdown",
      "source": [
        "In most cases feature stores add unnecessary complexity and are well suited for specific ML uses cases. You might even be asking, \"If a feature store is simply making sure the same pre-processing happens on the data, why can't I do that transformation during inference on the raw data?\"\n",
        "\n",
        "There are two scenarios that it isn't viable:\n",
        "\n",
        "\n",
        "*   The first situation is if the feature value will not be known by clients requesting predictions, but has to instead be computed on the server. If the clients requesting predictions will not know the feature values, then we need a mechanism to inject the feature values into incoming prediction requests. The feature store plays that role. For example, one of the features of a dynamic pricing model may be the number of web site visitors to the item listing over the past hour. The client (think of a mobile app) requesting the price of a hotel will not know this feature’s value. This information has to be computed on the server using a streaming pipeline on clickstream data and inserted into the feature store. You can also imagine that if you have to fetch a alot of data, this cannot be done quick enough.\n",
        "\n",
        "* The second situation is to prevent unnecessary copies of the data. For example, consider that you have a feature that is computationally expensive and is used in multiple ML models. Rather than using a transform function and storing the transformed feature in multiple ML training datasets, it is much more efficient and maintainable to store it in a centralized repository.\n",
        "\n",
        "To summarize, a feature-store is most valuable when:\n",
        "\n",
        "* A feature is unknown by user and needs to be fetched/computed server-side\n",
        "* A feature requires intensive computation\n",
        "* A Feature is used by many different models\n",
        "\n",
        "Okay, thats enough english for now. Lets get to the building since I prefer to speak in code"
      ],
      "metadata": {
        "id": "V4l98iVuJcgE"
      }
    },
    {
      "cell_type": "markdown",
      "source": [
        "## Tutorial\n",
        "\n",
        "\n",
        "\n"
      ],
      "metadata": {
        "id": "VXb8YqI0JsUN"
      }
    },
    {
      "cell_type": "markdown",
      "source": [
        "Throughout this tutorial, we’ll walk through the creation of a production-ready fraud prediction system, end to end. We will be predicting whether a transaction made by a given user will be fraudulent. This prediction will be made in real-time as the user makes the transaction, so we need to be able to generate a prediction at low latency.\n",
        "\n",
        "Our system will perform the following workflows:\n",
        "- Computing and backfilling feature data from raw data\n",
        "- Building point-in-time correct training datasets from feature data and training a model\n",
        "- Making online predictions from feature data\n",
        "\n",
        "We will be using a open-source framework called Feast which is built from the guys a Tecton, one of the leading feature-store companies globally. Tecton is a hosted version of Feast and comes with a few more beneficial features such as monitoring. We will then be deploying our application to AWS."
      ],
      "metadata": {
        "id": "IYFHH6UNQSYp"
      }
    },
    {
      "cell_type": "markdown",
      "source": [
        "### Setup AWS Infrastructure\n"
      ],
      "metadata": {
        "id": "XpAl9Jr0U5P9"
      }
    },
    {
      "cell_type": "markdown",
      "source": [
        "Since infrastructure and architecture are not the purpose of this tutorial we will use [terraform](https://www.terraform.io) to quickly setup our infrastructure in AWS to continue with the rest of the tutorial.\n",
        "\n",
        "Without deviating too much let me just explain quickly what terraform is and the different components we set up:\n",
        "\n",
        "\n",
        "*   Terraform is a infrastructure as code tool that allows you to create and change infrastructure predictably. In plain english, think of it as a setup definition file and with one command you can create a development and production environment that are exact replicas of eachother.\n",
        "\n",
        "The following is created from the terraform file:\n",
        "\n",
        "*   **S3 bucket** - this is where we are storing our data files to be using in this tutorial\n",
        "* **Redshift cluster** - this is the AWS data warehouse we will be using\n",
        "* **AWS Glue** - this is the AWS ELT tool that we will use to get our data from S3 to redshit.\n",
        "* **AWS IAM Roles** - We create the roles thats needed for these 3 resources to interact.\n",
        "\n",
        "Okay enough geeking out on Terraform - lets code!\n"
      ],
      "metadata": {
        "id": "beuzt4Pd3hwL"
      }
    },
    {
      "cell_type": "markdown",
      "source": [
        "We need to setup our AWS credentials in order to deploy this terraform setup to our account. To start make sure you have your AWS_ACCESS_KEY_ID and AWS_SECRET_ACCESS_KEY environment variables setup. If not, go to your AWS console and follow the instructions below:\n",
        "\n",
        "*   Go to the IAm service\n",
        "*   Click \"*Users*\" in the sidebar\n",
        "*   Go through the steps to creat a user and attach the following policies below.\n",
        "\n",
        "If you already have a user, make sure you have the following permissions:\n",
        "\n",
        "*   AmazonRedshiftDataFullAccess\n",
        "*   AmazonS3FullAccess\n",
        "*   AWSGlueConsoleFullAccess\n",
        "*   IAMFullAccess\n",
        "\n",
        "Once a user is created, you can click on your user and go to the tab that says \"*Security Credentials*\". Scroll down and click the button that says \"Create access key\". You should then see a *Access Key* and *Secret Key* generated for you.\n",
        "\n",
        "Run the code below pasting in the generated keys\n"
      ],
      "metadata": {
        "id": "Ppqtno2O6cf6"
      }
    },
    {
      "cell_type": "code",
      "source": [
        "!export AWS_ACCESS_KEY_ID=#paste Access Key here\n",
        "!export AWS_SECRET_ACCESS_KEY=#paste Secret Key here"
      ],
      "metadata": {
        "id": "q1Vo8gST6LTc"
      },
      "execution_count": null,
      "outputs": []
    },
    {
      "cell_type": "markdown",
      "source": [
        "Install the Terraform framework. I use Homebrew on MacOS but you can use many."
      ],
      "metadata": {
        "id": "KY4Aetp09FfV"
      }
    },
    {
      "cell_type": "code",
      "source": [
        "!brew install terraform"
      ],
      "metadata": {
        "id": "fdjR4ptu8v4R"
      },
      "execution_count": null,
      "outputs": []
    },
    {
      "cell_type": "markdown",
      "source": [
        "In your terminal, go to the \"infra\" folder that came along with this tutorial. Run the command below"
      ],
      "metadata": {
        "id": "JFmcfGRr9Tkv"
      }
    },
    {
      "cell_type": "code",
      "source": [
        "#Run the following in the infra folder\n",
        "!terraform init\n",
        "!export TF_VAR_region=\"us-west-2\" #region to deploy this\n",
        "!export TF_VAR_project_name=\"your-project-name\" #setup a project nam!e\n",
        "!terraform apply -var=\"admin_password=thisISTestPassword1\""
      ],
      "metadata": {
        "id": "I2jjq2Dt9QTi"
      },
      "execution_count": 2,
      "outputs": []
    },
    {
      "cell_type": "markdown",
      "source": [
        "Once your infrastructure is deployed you should see the following output in your terminal. Save these, we will need them later."
      ],
      "metadata": {
        "id": "h7jUTW4eACg4"
      }
    },
    {
      "cell_type": "code",
      "source": [
        "redshift_cluster_identifier = \"my-feast-project-aws-cerebrium-redshift-cluster\"\n",
        "redshift_spectrum_arn = \"arn:aws:iam::ACCOUNT_NUMBER:role/s3_spectrum_role\"\n",
        "credit_history_table = \"credit_history\"\n",
        "zipcode_features_table = \"zipcode_features\""
      ],
      "metadata": {
        "id": "EPPqkVkqAHG5"
      },
      "execution_count": null,
      "outputs": []
    },
    {
      "cell_type": "code",
      "source": [
        "#run the following in your terminal\n",
        "aws redshift-data execute-statement \\\n",
        "--region us-west-2 \\\n",
        "--cluster-identifier [SET YOUR redshift_cluster_identifier HERE] \\\n",
        "--db-user admin \\\n",
        "--database dev \\\n",
        "--sql \"create external schema spectrum from data catalog database 'dev' iam_role '[SET YOUR redshift_spectrum_arn here]' create external database if not exists;\""
      ],
      "metadata": {
        "colab": {
          "base_uri": "https://localhost:8080/"
        },
        "id": "gctsv-cFAz-6",
        "outputId": "b278cf64-bef3-4757-d6ce-bd9e58f62956"
      },
      "execution_count": 3,
      "outputs": [
        {
          "output_type": "stream",
          "name": "stdout",
          "text": [
            "/bin/bash: aws: command not found\n"
          ]
        }
      ]
    },
    {
      "cell_type": "markdown",
      "source": [
        "You should then get a JSON result back. Enter the id returned below"
      ],
      "metadata": {
        "id": "G9BpGU90KPsu"
      }
    },
    {
      "cell_type": "code",
      "source": [
        "aws redshift-data describe-statement --id [SET YOUR STATEMENT ID HERE] --region us-west-2\n"
      ],
      "metadata": {
        "id": "XT6Lh3lPIZmb"
      },
      "execution_count": null,
      "outputs": []
    },
    {
      "cell_type": "markdown",
      "source": [
        "If that is all running successfully then we are done with our AWS setup! "
      ],
      "metadata": {
        "id": "kRJsduJdKWmD"
      }
    },
    {
      "cell_type": "markdown",
      "source": [
        "### Feast"
      ],
      "metadata": {
        "id": "HJkgR8cRKc6y"
      }
    },
    {
      "cell_type": "markdown",
      "source": [
        "To get started, let us install the Feast framework. Feast can be installed using pip. Run this command in your command line instead of running it in the notebook.\n"
      ],
      "metadata": {
        "id": "0_guNMgbaTtp"
      }
    },
    {
      "cell_type": "code",
      "source": [
        "pip install feast\n"
      ],
      "metadata": {
        "colab": {
          "base_uri": "https://localhost:8080/"
        },
        "id": "MiRQvjw0aQ9s",
        "outputId": "d3847036-75ed-4ad0-b254-97089a956682"
      },
      "execution_count": 1,
      "outputs": [
        {
          "output_type": "stream",
          "name": "stdout",
          "text": [
            "Looking in indexes: https://pypi.org/simple, https://us-python.pkg.dev/colab-wheels/public/simple/\n",
            "Requirement already satisfied: feast[aws] in /usr/local/lib/python3.7/dist-packages (0.22.0)\n",
            "Requirement already satisfied: toml==0.10.* in /usr/local/lib/python3.7/dist-packages (from feast[aws]) (0.10.2)\n",
            "Requirement already satisfied: Jinja2<4,>=2 in /usr/local/lib/python3.7/dist-packages (from feast[aws]) (2.11.3)\n",
            "Requirement already satisfied: colorama<1,>=0.3.9 in /usr/local/lib/python3.7/dist-packages (from feast[aws]) (0.4.5)\n",
            "Requirement already satisfied: jsonschema in /usr/local/lib/python3.7/dist-packages (from feast[aws]) (4.3.3)\n",
            "Requirement already satisfied: PyYAML<7,>=5.4.* in /usr/local/lib/python3.7/dist-packages (from feast[aws]) (6.0)\n",
            "Requirement already satisfied: grpcio<2,>=1.34.0 in /usr/local/lib/python3.7/dist-packages (from feast[aws]) (1.47.0)\n",
            "Requirement already satisfied: fastavro<2,>=1.1.0 in /usr/local/lib/python3.7/dist-packages (from feast[aws]) (1.5.3)\n",
            "Requirement already satisfied: pygments==2.12.0 in /usr/local/lib/python3.7/dist-packages (from feast[aws]) (2.12.0)\n",
            "Requirement already satisfied: numpy<1.22,<2 in /usr/local/lib/python3.7/dist-packages (from feast[aws]) (1.21.6)\n",
            "Requirement already satisfied: click<8.0.2,>=7.0.0 in /usr/local/lib/python3.7/dist-packages (from feast[aws]) (7.1.2)\n",
            "Requirement already satisfied: fastapi<1,>=0.68.0 in /usr/local/lib/python3.7/dist-packages (from feast[aws]) (0.79.0)\n",
            "Requirement already satisfied: pydantic<2,>=1 in /usr/local/lib/python3.7/dist-packages (from feast[aws]) (1.9.1)\n",
            "Requirement already satisfied: proto-plus==1.20.* in /usr/local/lib/python3.7/dist-packages (from feast[aws]) (1.20.6)\n",
            "Requirement already satisfied: tabulate==0.8.* in /usr/local/lib/python3.7/dist-packages (from feast[aws]) (0.8.10)\n",
            "Requirement already satisfied: typeguard in /usr/local/lib/python3.7/dist-packages (from feast[aws]) (2.7.1)\n",
            "Requirement already satisfied: googleapis-common-protos<2,>=1.52.* in /usr/local/lib/python3.7/dist-packages (from feast[aws]) (1.56.4)\n",
            "Requirement already satisfied: pandavro==1.5.* in /usr/local/lib/python3.7/dist-packages (from feast[aws]) (1.5.2)\n",
            "Requirement already satisfied: SQLAlchemy[mypy]<2,>1 in /usr/local/lib/python3.7/dist-packages (from feast[aws]) (1.4.39)\n",
            "Requirement already satisfied: uvicorn[standard]<1,>=0.14.0 in /usr/local/lib/python3.7/dist-packages (from feast[aws]) (0.18.2)\n",
            "Requirement already satisfied: google-api-core<3,>=1.23.0 in /usr/local/lib/python3.7/dist-packages (from feast[aws]) (1.31.6)\n",
            "Requirement already satisfied: dill==0.3.* in /usr/local/lib/python3.7/dist-packages (from feast[aws]) (0.3.5.1)\n",
            "Requirement already satisfied: tqdm==4.* in /usr/local/lib/python3.7/dist-packages (from feast[aws]) (4.64.0)\n",
            "Requirement already satisfied: grpcio-reflection<2,>=1.34.0 in /usr/local/lib/python3.7/dist-packages (from feast[aws]) (1.47.0)\n",
            "Requirement already satisfied: pyarrow<7,>=4 in /usr/local/lib/python3.7/dist-packages (from feast[aws]) (6.0.1)\n",
            "Requirement already satisfied: tenacity<9,>=7 in /usr/local/lib/python3.7/dist-packages (from feast[aws]) (8.0.1)\n",
            "Requirement already satisfied: mmh3 in /usr/local/lib/python3.7/dist-packages (from feast[aws]) (3.0.0)\n",
            "Requirement already satisfied: protobuf<3.20,>=3.10 in /usr/local/lib/python3.7/dist-packages (from feast[aws]) (3.19.4)\n",
            "Requirement already satisfied: bowler in /usr/local/lib/python3.7/dist-packages (from feast[aws]) (0.9.0)\n",
            "Requirement already satisfied: dask<2022.02.0,>=2021.* in /usr/local/lib/python3.7/dist-packages (from feast[aws]) (2022.1.1)\n",
            "Requirement already satisfied: tensorflow-metadata<2.0.0,>=1.0.0 in /usr/local/lib/python3.7/dist-packages (from feast[aws]) (1.9.0)\n",
            "Requirement already satisfied: pandas<2,>=1 in /usr/local/lib/python3.7/dist-packages (from feast[aws]) (1.3.5)\n",
            "Requirement already satisfied: s3fs<=2022.01.0,>=0.4.0 in /usr/local/lib/python3.7/dist-packages (from feast[aws]) (2022.1.0)\n",
            "Requirement already satisfied: docker>=5.0.2 in /usr/local/lib/python3.7/dist-packages (from feast[aws]) (5.0.3)\n",
            "Requirement already satisfied: boto3<=1.20.23,>=1.17.0 in /usr/local/lib/python3.7/dist-packages (from feast[aws]) (1.20.23)\n",
            "Requirement already satisfied: six>=1.9 in /usr/local/lib/python3.7/dist-packages (from pandavro==1.5.*->feast[aws]) (1.15.0)\n",
            "Requirement already satisfied: jmespath<1.0.0,>=0.7.1 in /usr/local/lib/python3.7/dist-packages (from boto3<=1.20.23,>=1.17.0->feast[aws]) (0.10.0)\n",
            "Requirement already satisfied: s3transfer<0.6.0,>=0.5.0 in /usr/local/lib/python3.7/dist-packages (from boto3<=1.20.23,>=1.17.0->feast[aws]) (0.5.2)\n",
            "Requirement already satisfied: botocore<1.24.0,>=1.23.23 in /usr/local/lib/python3.7/dist-packages (from boto3<=1.20.23,>=1.17.0->feast[aws]) (1.23.24)\n",
            "Requirement already satisfied: python-dateutil<3.0.0,>=2.1 in /usr/local/lib/python3.7/dist-packages (from botocore<1.24.0,>=1.23.23->boto3<=1.20.23,>=1.17.0->feast[aws]) (2.8.2)\n",
            "Requirement already satisfied: urllib3<1.27,>=1.25.4 in /usr/local/lib/python3.7/dist-packages (from botocore<1.24.0,>=1.23.23->boto3<=1.20.23,>=1.17.0->feast[aws]) (1.25.11)\n",
            "Requirement already satisfied: fsspec>=0.6.0 in /usr/local/lib/python3.7/dist-packages (from dask<2022.02.0,>=2021.*->feast[aws]) (2022.1.0)\n",
            "Requirement already satisfied: toolz>=0.8.2 in /usr/local/lib/python3.7/dist-packages (from dask<2022.02.0,>=2021.*->feast[aws]) (0.12.0)\n",
            "Requirement already satisfied: partd>=0.3.10 in /usr/local/lib/python3.7/dist-packages (from dask<2022.02.0,>=2021.*->feast[aws]) (1.2.0)\n",
            "Requirement already satisfied: packaging>=20.0 in /usr/local/lib/python3.7/dist-packages (from dask<2022.02.0,>=2021.*->feast[aws]) (21.3)\n",
            "Requirement already satisfied: cloudpickle>=1.1.1 in /usr/local/lib/python3.7/dist-packages (from dask<2022.02.0,>=2021.*->feast[aws]) (1.3.0)\n",
            "Requirement already satisfied: websocket-client>=0.32.0 in /usr/local/lib/python3.7/dist-packages (from docker>=5.0.2->feast[aws]) (1.3.3)\n",
            "Requirement already satisfied: requests!=2.18.0,>=2.14.2 in /usr/local/lib/python3.7/dist-packages (from docker>=5.0.2->feast[aws]) (2.23.0)\n",
            "Requirement already satisfied: starlette==0.19.1 in /usr/local/lib/python3.7/dist-packages (from fastapi<1,>=0.68.0->feast[aws]) (0.19.1)\n",
            "Requirement already satisfied: typing-extensions>=3.10.0 in /usr/local/lib/python3.7/dist-packages (from starlette==0.19.1->fastapi<1,>=0.68.0->feast[aws]) (4.1.1)\n",
            "Requirement already satisfied: anyio<5,>=3.4.0 in /usr/local/lib/python3.7/dist-packages (from starlette==0.19.1->fastapi<1,>=0.68.0->feast[aws]) (3.6.1)\n",
            "Requirement already satisfied: sniffio>=1.1 in /usr/local/lib/python3.7/dist-packages (from anyio<5,>=3.4.0->starlette==0.19.1->fastapi<1,>=0.68.0->feast[aws]) (1.2.0)\n",
            "Requirement already satisfied: idna>=2.8 in /usr/local/lib/python3.7/dist-packages (from anyio<5,>=3.4.0->starlette==0.19.1->fastapi<1,>=0.68.0->feast[aws]) (2.10)\n",
            "Requirement already satisfied: pytz in /usr/local/lib/python3.7/dist-packages (from google-api-core<3,>=1.23.0->feast[aws]) (2022.1)\n",
            "Requirement already satisfied: google-auth<2.0dev,>=1.25.0 in /usr/local/lib/python3.7/dist-packages (from google-api-core<3,>=1.23.0->feast[aws]) (1.35.0)\n",
            "Requirement already satisfied: setuptools>=40.3.0 in /usr/local/lib/python3.7/dist-packages (from google-api-core<3,>=1.23.0->feast[aws]) (57.4.0)\n",
            "Requirement already satisfied: rsa<5,>=3.1.4 in /usr/local/lib/python3.7/dist-packages (from google-auth<2.0dev,>=1.25.0->google-api-core<3,>=1.23.0->feast[aws]) (4.9)\n",
            "Requirement already satisfied: cachetools<5.0,>=2.0.0 in /usr/local/lib/python3.7/dist-packages (from google-auth<2.0dev,>=1.25.0->google-api-core<3,>=1.23.0->feast[aws]) (4.2.4)\n",
            "Requirement already satisfied: pyasn1-modules>=0.2.1 in /usr/local/lib/python3.7/dist-packages (from google-auth<2.0dev,>=1.25.0->google-api-core<3,>=1.23.0->feast[aws]) (0.2.8)\n",
            "Requirement already satisfied: MarkupSafe>=0.23 in /usr/local/lib/python3.7/dist-packages (from Jinja2<4,>=2->feast[aws]) (2.0.1)\n",
            "Requirement already satisfied: pyparsing!=3.0.5,>=2.0.2 in /usr/local/lib/python3.7/dist-packages (from packaging>=20.0->dask<2022.02.0,>=2021.*->feast[aws]) (3.0.9)\n",
            "Requirement already satisfied: locket in /usr/local/lib/python3.7/dist-packages (from partd>=0.3.10->dask<2022.02.0,>=2021.*->feast[aws]) (1.0.0)\n",
            "Requirement already satisfied: pyasn1<0.5.0,>=0.4.6 in /usr/local/lib/python3.7/dist-packages (from pyasn1-modules>=0.2.1->google-auth<2.0dev,>=1.25.0->google-api-core<3,>=1.23.0->feast[aws]) (0.4.8)\n",
            "Requirement already satisfied: certifi>=2017.4.17 in /usr/local/lib/python3.7/dist-packages (from requests!=2.18.0,>=2.14.2->docker>=5.0.2->feast[aws]) (2022.6.15)\n",
            "Requirement already satisfied: chardet<4,>=3.0.2 in /usr/local/lib/python3.7/dist-packages (from requests!=2.18.0,>=2.14.2->docker>=5.0.2->feast[aws]) (3.0.4)\n",
            "Requirement already satisfied: aiobotocore~=2.1.0 in /usr/local/lib/python3.7/dist-packages (from s3fs<=2022.01.0,>=0.4.0->feast[aws]) (2.1.2)\n",
            "Requirement already satisfied: aiohttp<=4 in /usr/local/lib/python3.7/dist-packages (from s3fs<=2022.01.0,>=0.4.0->feast[aws]) (3.8.1)\n",
            "Requirement already satisfied: wrapt>=1.10.10 in /usr/local/lib/python3.7/dist-packages (from aiobotocore~=2.1.0->s3fs<=2022.01.0,>=0.4.0->feast[aws]) (1.14.1)\n",
            "Requirement already satisfied: aioitertools>=0.5.1 in /usr/local/lib/python3.7/dist-packages (from aiobotocore~=2.1.0->s3fs<=2022.01.0,>=0.4.0->feast[aws]) (0.10.0)\n",
            "Requirement already satisfied: aiosignal>=1.1.2 in /usr/local/lib/python3.7/dist-packages (from aiohttp<=4->s3fs<=2022.01.0,>=0.4.0->feast[aws]) (1.2.0)\n",
            "Requirement already satisfied: attrs>=17.3.0 in /usr/local/lib/python3.7/dist-packages (from aiohttp<=4->s3fs<=2022.01.0,>=0.4.0->feast[aws]) (21.4.0)\n",
            "Requirement already satisfied: frozenlist>=1.1.1 in /usr/local/lib/python3.7/dist-packages (from aiohttp<=4->s3fs<=2022.01.0,>=0.4.0->feast[aws]) (1.3.0)\n",
            "Requirement already satisfied: asynctest==0.13.0 in /usr/local/lib/python3.7/dist-packages (from aiohttp<=4->s3fs<=2022.01.0,>=0.4.0->feast[aws]) (0.13.0)\n",
            "Requirement already satisfied: charset-normalizer<3.0,>=2.0 in /usr/local/lib/python3.7/dist-packages (from aiohttp<=4->s3fs<=2022.01.0,>=0.4.0->feast[aws]) (2.1.0)\n",
            "Requirement already satisfied: async-timeout<5.0,>=4.0.0a3 in /usr/local/lib/python3.7/dist-packages (from aiohttp<=4->s3fs<=2022.01.0,>=0.4.0->feast[aws]) (4.0.2)\n",
            "Requirement already satisfied: multidict<7.0,>=4.5 in /usr/local/lib/python3.7/dist-packages (from aiohttp<=4->s3fs<=2022.01.0,>=0.4.0->feast[aws]) (6.0.2)\n",
            "Requirement already satisfied: yarl<2.0,>=1.0 in /usr/local/lib/python3.7/dist-packages (from aiohttp<=4->s3fs<=2022.01.0,>=0.4.0->feast[aws]) (1.7.2)\n",
            "Requirement already satisfied: importlib-metadata in /usr/local/lib/python3.7/dist-packages (from SQLAlchemy[mypy]<2,>1->feast[aws]) (4.12.0)\n",
            "Requirement already satisfied: greenlet!=0.4.17 in /usr/local/lib/python3.7/dist-packages (from SQLAlchemy[mypy]<2,>1->feast[aws]) (1.1.2)\n",
            "Requirement already satisfied: mypy>=0.910 in /usr/local/lib/python3.7/dist-packages (from SQLAlchemy[mypy]<2,>1->feast[aws]) (0.971)\n",
            "Requirement already satisfied: sqlalchemy2-stubs in /usr/local/lib/python3.7/dist-packages (from SQLAlchemy[mypy]<2,>1->feast[aws]) (0.0.2a24)\n",
            "Requirement already satisfied: tomli>=1.1.0 in /usr/local/lib/python3.7/dist-packages (from mypy>=0.910->SQLAlchemy[mypy]<2,>1->feast[aws]) (2.0.1)\n",
            "Requirement already satisfied: typed-ast<2,>=1.4.0 in /usr/local/lib/python3.7/dist-packages (from mypy>=0.910->SQLAlchemy[mypy]<2,>1->feast[aws]) (1.5.4)\n",
            "Requirement already satisfied: mypy-extensions>=0.4.3 in /usr/local/lib/python3.7/dist-packages (from mypy>=0.910->SQLAlchemy[mypy]<2,>1->feast[aws]) (0.4.3)\n",
            "Requirement already satisfied: absl-py<2.0.0,>=0.9 in /usr/local/lib/python3.7/dist-packages (from tensorflow-metadata<2.0.0,>=1.0.0->feast[aws]) (1.2.0)\n",
            "Requirement already satisfied: h11>=0.8 in /usr/local/lib/python3.7/dist-packages (from uvicorn[standard]<1,>=0.14.0->feast[aws]) (0.13.0)\n",
            "Requirement already satisfied: uvloop!=0.15.0,!=0.15.1,>=0.14.0 in /usr/local/lib/python3.7/dist-packages (from uvicorn[standard]<1,>=0.14.0->feast[aws]) (0.16.0)\n",
            "Requirement already satisfied: httptools>=0.4.0 in /usr/local/lib/python3.7/dist-packages (from uvicorn[standard]<1,>=0.14.0->feast[aws]) (0.4.0)\n",
            "Requirement already satisfied: watchfiles>=0.13 in /usr/local/lib/python3.7/dist-packages (from uvicorn[standard]<1,>=0.14.0->feast[aws]) (0.16.1)\n",
            "Requirement already satisfied: python-dotenv>=0.13 in /usr/local/lib/python3.7/dist-packages (from uvicorn[standard]<1,>=0.14.0->feast[aws]) (0.20.0)\n",
            "Requirement already satisfied: websockets>=10.0 in /usr/local/lib/python3.7/dist-packages (from uvicorn[standard]<1,>=0.14.0->feast[aws]) (10.3)\n",
            "Requirement already satisfied: moreorless>=0.2.0 in /usr/local/lib/python3.7/dist-packages (from bowler->feast[aws]) (0.4.0)\n",
            "Requirement already satisfied: fissix in /usr/local/lib/python3.7/dist-packages (from bowler->feast[aws]) (21.11.13)\n",
            "Requirement already satisfied: volatile in /usr/local/lib/python3.7/dist-packages (from bowler->feast[aws]) (2.1.0)\n",
            "Requirement already satisfied: appdirs in /usr/local/lib/python3.7/dist-packages (from fissix->bowler->feast[aws]) (1.4.4)\n",
            "Requirement already satisfied: zipp>=0.5 in /usr/local/lib/python3.7/dist-packages (from importlib-metadata->SQLAlchemy[mypy]<2,>1->feast[aws]) (3.8.1)\n",
            "Requirement already satisfied: importlib-resources>=1.4.0 in /usr/local/lib/python3.7/dist-packages (from jsonschema->feast[aws]) (5.9.0)\n",
            "Requirement already satisfied: pyrsistent!=0.17.0,!=0.17.1,!=0.17.2,>=0.14.0 in /usr/local/lib/python3.7/dist-packages (from jsonschema->feast[aws]) (0.18.1)\n",
            "Feast SDK Version: \"feast 0.22.0\"\n"
          ]
        }
      ]
    },
    {
      "cell_type": "markdown",
      "source": [
        "In Feast, you define your features using a .yaml file in a repository. To create a repository run the command below. This will create a few files that are mostly example files (you can delete driver_repo.py and test.py if you would like) but we only care about:\n",
        "\n",
        "*   **example.py**: This is a python file where you define your feature values and where Feast will find them. i.e: A Redshift Cluster or a S3 bucket.\n",
        "*   **feature_store.yaml**: This is a configuration file where you will define the location of your Redshift cluster, S3 bucket and DynamoDB Database.\n",
        "\n",
        "\n",
        "Since we are using AWS, we have use *aws* in the command however if you were using Google Cloud you can use *gcp*. Run the commands below in your terminal, if you run it in this notebook it will create the folders in here. Create a folder and change to it in your command line and run the command below:"
      ],
      "metadata": {
        "id": "cVLpSnxbah5N"
      }
    },
    {
      "cell_type": "code",
      "source": [
        "!feast init -t aws feature_repo # Command only shown for reference."
      ],
      "metadata": {
        "colab": {
          "base_uri": "https://localhost:8080/"
        },
        "id": "--Blu1xObLoE",
        "outputId": "940b1daa-3ebd-4233-92e1-c5d41cbd6d9a"
      },
      "execution_count": 2,
      "outputs": [
        {
          "output_type": "stream",
          "name": "stdout",
          "text": [
            "AWS Region (e.g. us-west-2): \n",
            "AWS Region (e.g. us-west-2): \n",
            "AWS Region (e.g. us-west-2): us-west-2\n",
            "Redshift Cluster ID: my-feast-project-aws-cerebrium-redshift-cluster\n",
            "Redshift Database Name: dev\n",
            "Redshift User Name: admin\n",
            "Redshift S3 Staging Location (s3://*): \n",
            "Aborted!\n"
          ]
        }
      ]
    },
    {
      "cell_type": "markdown",
      "source": [
        "Create a file called example.py in which we will define our features. Before we get started, we need to understand the concept of an Entity and FeatureView:\n",
        "\n",
        "*   **Entity**: An entity is a collection of semantically related features. For example, Uber would have customers and drivers as two seperate entities that group features that correspond to those entities.\n",
        "*   **FeatureView**: A feature view is an object that represents a logical group of time-series feature data as it is found in a data source. They consist of zero or more entities, one or more features and a data source.\n",
        "\n"
      ],
      "metadata": {
        "id": "dNhC9VF-kFaY"
      }
    },
    {
      "cell_type": "code",
      "source": [
        "from datetime import timedelta\n",
        "from feast import (Entity, Feature, FeatureView, RedshiftSource,\n",
        "                   ValueType)\n",
        "\n",
        "zipcode = Entity(name=\"zipcode\", value_type=ValueType.INT64)\n",
        "\n",
        "zipcode_source = RedshiftSource(\n",
        "    query=\"SELECT * FROM spectrum.zipcode_features\",\n",
        "    event_timestamp_column=\"event_timestamp\",\n",
        "    created_timestamp_column=\"created_timestamp\",\n",
        ")\n",
        "\n",
        "zipcode_features = FeatureView(\n",
        "    name=\"zipcode_features\",\n",
        "    entities=[\"zipcode\"],\n",
        "    ttl=timedelta(days=3650),\n",
        "    features=[\n",
        "        Feature(name=\"city\", dtype=ValueType.STRING),\n",
        "        Feature(name=\"state\", dtype=ValueType.STRING),\n",
        "        Feature(name=\"location_type\", dtype=ValueType.STRING),\n",
        "        Feature(name=\"tax_returns_filed\", dtype=ValueType.INT64),\n",
        "        Feature(name=\"population\", dtype=ValueType.INT64),\n",
        "        Feature(name=\"total_wages\", dtype=ValueType.INT64),\n",
        "    ],\n",
        "    batch_source=zipcode_source,\n",
        ")"
      ],
      "metadata": {
        "id": "ccj4iVfRmBvb"
      },
      "execution_count": null,
      "outputs": []
    },
    {
      "cell_type": "markdown",
      "source": [
        "First we create our *Zipcode* entity and define the SQL that will fetch the required features from our Redshift data warehouse. We then create a featureView that uses the Redshift instance to fetch the features and define the data type for each feature - as you can see city, state, etc all relate to a zipcode. We also define the time we would like the feature to contain. In this case we want 10 years worth of data with is 3650 days."
      ],
      "metadata": {
        "id": "8OSRJtZ_rSyM"
      }
    },
    {
      "cell_type": "markdown",
      "source": [
        "Add the below to the rest of the *example.py* file. It follows the same pattern as above just for different entities/features\n"
      ],
      "metadata": {
        "id": "C3d6GdAJuEXS"
      }
    },
    {
      "cell_type": "code",
      "source": [
        "dob_ssn = Entity(\n",
        "    name=\"dob_ssn\",\n",
        "    value_type=ValueType.STRING,\n",
        "    description=\"Date of birth and last four digits of social security number\",\n",
        ")\n",
        "\n",
        "credit_history_source = RedshiftSource(\n",
        "    query=\"SELECT * FROM spectrum.credit_history\",\n",
        "    event_timestamp_column=\"event_timestamp\",\n",
        "    created_timestamp_column=\"created_timestamp\",\n",
        ")\n",
        "\n",
        "credit_history = FeatureView(\n",
        "    name=\"credit_history\",\n",
        "    entities=[\"dob_ssn\"],\n",
        "    ttl=timedelta(days=3650),\n",
        "    features=[\n",
        "        Feature(name=\"credit_card_due\", dtype=ValueType.INT64),\n",
        "        Feature(name=\"mortgage_due\", dtype=ValueType.INT64),\n",
        "        Feature(name=\"student_loan_due\", dtype=ValueType.INT64),\n",
        "        Feature(name=\"vehicle_loan_due\", dtype=ValueType.INT64),\n",
        "        Feature(name=\"hard_pulls\", dtype=ValueType.INT64),\n",
        "        Feature(name=\"missed_payments_2y\", dtype=ValueType.INT64),\n",
        "        Feature(name=\"missed_payments_1y\", dtype=ValueType.INT64),\n",
        "        Feature(name=\"missed_payments_6m\", dtype=ValueType.INT64),\n",
        "        Feature(name=\"bankruptcies\", dtype=ValueType.INT64),\n",
        "    ],\n",
        "    batch_source=credit_history_source,\n",
        ")"
      ],
      "metadata": {
        "colab": {
          "base_uri": "https://localhost:8080/",
          "height": 240
        },
        "id": "uMVuA4RluK9p",
        "outputId": "e7c6327b-0a27-41ff-848e-40a8ba00bb60"
      },
      "execution_count": 1,
      "outputs": [
        {
          "output_type": "error",
          "ename": "NameError",
          "evalue": "ignored",
          "traceback": [
            "\u001b[0;31m---------------------------------------------------------------------------\u001b[0m",
            "\u001b[0;31mNameError\u001b[0m                                 Traceback (most recent call last)",
            "\u001b[0;32m<ipython-input-1-0e0d070d4b92>\u001b[0m in \u001b[0;36m<module>\u001b[0;34m()\u001b[0m\n\u001b[0;32m----> 1\u001b[0;31m dob_ssn = Entity(\n\u001b[0m\u001b[1;32m      2\u001b[0m     \u001b[0mname\u001b[0m\u001b[0;34m=\u001b[0m\u001b[0;34m\"dob_ssn\"\u001b[0m\u001b[0;34m,\u001b[0m\u001b[0;34m\u001b[0m\u001b[0;34m\u001b[0m\u001b[0m\n\u001b[1;32m      3\u001b[0m     \u001b[0mvalue_type\u001b[0m\u001b[0;34m=\u001b[0m\u001b[0mValueType\u001b[0m\u001b[0;34m.\u001b[0m\u001b[0mSTRING\u001b[0m\u001b[0;34m,\u001b[0m\u001b[0;34m\u001b[0m\u001b[0;34m\u001b[0m\u001b[0m\n\u001b[1;32m      4\u001b[0m     \u001b[0mdescription\u001b[0m\u001b[0;34m=\u001b[0m\u001b[0;34m\"Date of birth and last four digits of social security number\"\u001b[0m\u001b[0;34m,\u001b[0m\u001b[0;34m\u001b[0m\u001b[0;34m\u001b[0m\u001b[0m\n\u001b[1;32m      5\u001b[0m )\n",
            "\u001b[0;31mNameError\u001b[0m: name 'Entity' is not defined"
          ]
        }
      ]
    },
    {
      "cell_type": "markdown",
      "source": [
        "Next, we'll edit the `feature_store.yaml` file to reference our Redshift cluster and s3 bucket - these are the values you got returned when terraform finished running. Below is what the various fields mean:\n",
        "\n",
        "* **project**: The name you would like to call the project.\n",
        "* **registry**: The registry is a central catalog of all the feature definitions and their related metadata. It is a file that you can interact with through the Feast API\n",
        "*   **provider**: The cloud provider you are using - in our case AWS\n",
        "*   **online_store**: The Online store is used for low-latency online feature value lookups. Feature values are loaded into the online store from data sources. Online stores only hold the latest values per entity key. An online store would be something such as Redis or DynamoDB - low latency.\n",
        "* **offline_store**: The offline stores store historic feature values and does not generate these values. The offline store is used as the interface for querying existing features or loading these features into an online store for low latency prediction. An offline store would be something like a data warehouse or storage bucket - high latency and a alot of historical data.\n",
        "\n",
        "\n",
        "Your S3 bucket name you fill in below should be something along the lines of s3://my-feast-project-aws-cerebrium-bucket where cerebrium should be replaced with your project name."
      ],
      "metadata": {
        "id": "ilJ6kYA8bkti"
      }
    },
    {
      "cell_type": "code",
      "source": [
        "project: credit_scoring_aws\n",
        "registry: registry.db\n",
        "provider: aws\n",
        "online_store:\n",
        "    type: dynamodb\n",
        "    region: us-west-2\n",
        "offline_store:\n",
        "    type: redshift\n",
        "    cluster_id: [SET YOUR CLUSTER ID]\n",
        "    region: us-west-2\n",
        "    database: dev\n",
        "    user: admin\n",
        "    s3_staging_location: s3://[SET YOUR BUCKET NAME]\n",
        "    iam_role: [SET YOUR ARN]\n"
      ],
      "metadata": {
        "id": "lyZ_iem0duNJ"
      },
      "execution_count": null,
      "outputs": []
    },
    {
      "cell_type": "markdown",
      "source": [
        "Deploy the feature store by running apply from within the feature/ folder."
      ],
      "metadata": {
        "id": "cG5XPr__dyKM"
      }
    },
    {
      "cell_type": "code",
      "source": [
        "!feast apply"
      ],
      "metadata": {
        "id": "h7QrUSUTb3o6"
      },
      "execution_count": null,
      "outputs": []
    },
    {
      "cell_type": "markdown",
      "source": [
        "If everything was created correctly, you would have seen the following output:"
      ],
      "metadata": {
        "id": "TVxF7s9oB-EH"
      }
    },
    {
      "cell_type": "code",
      "source": [
        "#Created entity zipcode\n",
        "#Created entity dob_ssn\n",
        "#Created feature view credit_history\n",
        "#Created feature view zipcode_features\n",
        "\n",
        "#Deploying infrastructure for credit_history\n",
        "#Deploying infrastructure for zipcode_features"
      ],
      "metadata": {
        "id": "beodYs1PCDEr"
      },
      "execution_count": null,
      "outputs": []
    },
    {
      "cell_type": "markdown",
      "source": [
        "Next we load our features into the online store using the materialize-incremental command. This command will load the latest feature values from a data source into the online store from the last materialize call."
      ],
      "metadata": {
        "id": "ALWd7-r7cj6n"
      }
    },
    {
      "cell_type": "code",
      "source": [
        "CURRENT_TIME=$(date -u +\"%Y-%m-%dT%H:%M:%S\")\n",
        "feast materialize-incremental $CURRENT_TIME"
      ],
      "metadata": {
        "id": "ww0kqHnru566"
      },
      "execution_count": null,
      "outputs": []
    },
    {
      "cell_type": "markdown",
      "source": [
        "If successful, you should see some activity in your terminal that its uploading the features. Once completed, you should see the results in our DynamoDB instance on AWS. "
      ],
      "metadata": {
        "id": "qM2yRozawF4p"
      }
    },
    {
      "cell_type": "markdown",
      "source": [
        "### Model Building"
      ],
      "metadata": {
        "id": "CuPaZtS0wQut"
      }
    },
    {
      "cell_type": "markdown",
      "source": [
        "In the repo, we have two files with respect to our model:\n",
        "\n",
        "*   *run.py*: This is a helper file that is going through the full model workflow. It fetches the historical loan data, trains our model and then makes a prediction to determine if the loan was approved or not.\n",
        "*   *credit_model.py*: This file shows you how we use Feast during our model building as well as during our inference. \n",
        "\n",
        "We will go through the code below"
      ],
      "metadata": {
        "id": "vzzOaPhxwUYl"
      }
    },
    {
      "cell_type": "code",
      "source": [
        "#run.py\n",
        "import boto3\n",
        "import pandas as pd\n",
        "\n",
        "#Import Class that contains most of the functionality\n",
        "from credit_model import CreditScoringModel\n",
        "\n",
        "# Get historic loan data\n",
        "loans = pd.read_parquet(\"data/loan_table.parquet\")\n",
        "\n",
        "# Create model\n",
        "model = CreditScoringModel()\n",
        "\n",
        "# Train model (using Redshift for zipcode and credit history features)\n",
        "if not model.is_model_trained():\n",
        "    model.train(loans)\n",
        "\n",
        "# Make online prediction (using DynamoDB for retrieving online features)\n",
        "loan_request = {\n",
        "    \"zipcode\": [76104],\n",
        "    \"dob_ssn\": [\"19630621_4278\"],\n",
        "    \"person_age\": [133],\n",
        "    \"person_income\": [59000],\n",
        "    \"person_home_ownership\": [\"RENT\"],\n",
        "    \"person_emp_length\": [123.0],\n",
        "    \"loan_intent\": [\"PERSONAL\"],\n",
        "    \"loan_amnt\": [35000],\n",
        "    \"loan_int_rate\": [16.02],\n",
        "}\n",
        "\n",
        "result = model.predict(loan_request)\n",
        "\n",
        "if result == 0:\n",
        "    print(\"Loan approved!\")\n",
        "elif result == 1:\n",
        "    print(\"Loan rejected!\")"
      ],
      "metadata": {
        "id": "AZOcZJaOu8OD"
      },
      "execution_count": null,
      "outputs": []
    },
    {
      "cell_type": "markdown",
      "source": [
        "In the credit_model.py we won't go through the entire file but rather just snippets in the file. \n",
        "\n",
        "We start by defining our model features which we do by specifiying the [entity name]: [column name]."
      ],
      "metadata": {
        "id": "Fr_5uGgY0QKK"
      }
    },
    {
      "cell_type": "code",
      "source": [
        "#line 21\n",
        "feast_features = [\n",
        "        \"zipcode_features:city\",\n",
        "        \"zipcode_features:state\",\n",
        "        \"zipcode_features:location_type\",\n",
        "        \"zipcode_features:tax_returns_filed\",\n",
        "        \"zipcode_features:population\",\n",
        "        \"zipcode_features:total_wages\",\n",
        "        \"credit_history:credit_card_due\",\n",
        "        \"credit_history:mortgage_due\",\n",
        "        \"credit_history:student_loan_due\",\n",
        "        \"credit_history:vehicle_loan_due\",\n",
        "        \"credit_history:hard_pulls\",\n",
        "        \"credit_history:missed_payments_2y\",\n",
        "        \"credit_history:missed_payments_1y\",\n",
        "        \"credit_history:missed_payments_6m\",\n",
        "        \"credit_history:bankruptcies\",\n",
        "    ]"
      ],
      "metadata": {
        "id": "GGlRuHcm0l7c"
      },
      "execution_count": null,
      "outputs": []
    },
    {
      "cell_type": "markdown",
      "source": [
        "During the initialisation of our model we attach the feature store to our model object to use later. The repo path is where the folder that contains our feature_store.yaml and example.py that we created above - Feast fetches the configuration from there."
      ],
      "metadata": {
        "id": "vqfhg1cI08LW"
      }
    },
    {
      "cell_type": "code",
      "source": [
        "#57\n",
        "self.fs = feast.FeatureStore(repo_path=\"feature_repo\")"
      ],
      "metadata": {
        "id": "tj4_9b-v1BhA"
      },
      "execution_count": null,
      "outputs": []
    },
    {
      "cell_type": "markdown",
      "source": [
        "When we would like to train our model, we want to get the historical data relating to our features. The method below launches a job that executes a join of features from the offline store onto the entity dataframe. \n",
        "\n",
        "An entity dataframe is the target dataframe on which you would like to join feature values. The entity dataframe must contain a timestamp column called event_timestamp and all entities (primary keys) necessary to join feature tables onto. All entities found in feature views that are being joined onto the entity dataframe must be found as column on the entity dataframe. In our case, loans contains a column called '*zipcode*' to which we join the zipcode features as well as '*dob_ssn*' to which we join the credit_history features.\n",
        "\n",
        "Once completed, a job reference will be returned. This job reference can then be converted to a Pandas dataframe by calling to_df()."
      ],
      "metadata": {
        "id": "iRpqFpJC1gtW"
      }
    },
    {
      "cell_type": "code",
      "source": [
        "#line 66\n",
        "training_df = self.fs.get_historical_features(\n",
        "            entity_df=loans, features=self.feast_features\n",
        "        ).to_df()"
      ],
      "metadata": {
        "id": "juEk054b1hzY"
      },
      "execution_count": null,
      "outputs": []
    },
    {
      "cell_type": "markdown",
      "source": [
        "When we do online inference (prediction) using our model, we don't want to have to fetch all the historical data or anything really from our data warehouse since that will take multiple seconds. Rather we want to get the data we need from a low-latency data-source so we can have a low response time (~100ms). We do that below with the get_online_features function."
      ],
      "metadata": {
        "id": "qOzPsPbP4ZWW"
      }
    },
    {
      "cell_type": "code",
      "source": [
        "#line 123\n",
        "return self.fs.get_online_features(\n",
        "    entity_rows=[{\"zipcode\": zipcode, \"dob_ssn\": dob_ssn}],\n",
        "    features=self.feast_features,\n",
        ").to_dict()"
      ],
      "metadata": {
        "id": "Ng3ALAeR4YYv"
      },
      "execution_count": null,
      "outputs": []
    },
    {
      "cell_type": "markdown",
      "source": [
        "The above allows me to pass in the specific zipcode and value for dob_ssn (Date of Birth and SSN) and get the feature values for this user instantaneously. We can then use these values in our predict *function* to return what we predicted for the loan\n",
        "\n",
        "Now let us run our run.py file to see this live and the output of our model"
      ],
      "metadata": {
        "id": "ATIpmj7S8Sqo"
      }
    },
    {
      "cell_type": "code",
      "source": [
        "python run.py\n",
        "\n",
        "#Output\n",
        "\n",
        "#loan rejected!"
      ],
      "metadata": {
        "colab": {
          "base_uri": "https://localhost:8080/"
        },
        "id": "9cMhhiu9x5F9",
        "outputId": "5f39428b-7554-408f-872d-291e24191563"
      },
      "execution_count": 2,
      "outputs": [
        {
          "output_type": "stream",
          "name": "stdout",
          "text": [
            "python3: can't open file 'run.py': [Errno 2] No such file or directory\n"
          ]
        }
      ]
    },
    {
      "cell_type": "markdown",
      "source": [
        "## Conclusion"
      ],
      "metadata": {
        "id": "XXYwtNBnNVu8"
      }
    },
    {
      "cell_type": "markdown",
      "source": [
        "That's it for our tutorial on feature stores! As I am sure you can tell, feature stores can add a lot of value to your ML infrastructure when it comes to using the same features across multiple models as well as doing server-side feature calculations however can add some complxity. Using Feast is great to implement this but if you want a more managed approach with extra functionality such as identifying model drift then you can try Tecton, or the the features stores that are native to the AWS and Google platforms."
      ],
      "metadata": {
        "id": "50zf2nDqNZZT"
      }
    }
  ]
}