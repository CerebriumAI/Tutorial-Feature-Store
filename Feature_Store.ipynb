{
  "cells": [
    {
      "cell_type": "markdown",
      "metadata": {
        "id": "cmiWKUPXQAza"
      },
      "source": [
        "# Implementing a Feature Store to predict loan eligibility\n"
      ]
    },
    {
      "cell_type": "markdown",
      "metadata": {
        "id": "D1dwtH_4Qbe5"
      },
      "source": [
        "## Feature Store Explainer"
      ]
    },
    {
      "cell_type": "markdown",
      "metadata": {
        "id": "qzOSuB-P-rz6"
      },
      "source": [
        "### What is a feature store?\n"
      ]
    },
    {
      "cell_type": "markdown",
      "metadata": {
        "id": "vY3F6xSt-vDu"
      },
      "source": [
        "Before we dive into what a feature store is, quick refresher: in machine learning, a feature is data used as input in a predictive model. It is the x in f(x) = y\n",
        "\n",
        "A feature store is an ML-specific system that:\n",
        "\n",
        "- Transform raw data into feature values for use by ML models - think a data pipeline\n",
        "- Stores and manages this feature data, and\n",
        "- Serves feature data consistently for training and inference purposes\n",
        "\n",
        "#### What problem are feature stores trying to solve?\n",
        "\n",
        "Feature stores are trying to solve 3 problems:\n",
        "\n",
        "* When an ML model is trained on preprocessed data, it is necessary to carry out the identical steps on incoming prediction requests. This is because we need to provide the model data with the same characteristics as the data it was trained on. If we don’t do that, we will get a difference between training and serving, and the model predictions will not be as good.\n",
        "* Many companies will use the same features across a variety of models and so it is a central hub for those features to be used by many models. Feature stores make sure there is no repetitive engineering setup as well as different pre-processing steps for the same features\n",
        "* It takes care of the engineering burden making sure features are pre-loaded into low-latency storage without the engineering work as well as making sure that these features were calculated the same way"
      ]
    },
    {
      "cell_type": "markdown",
      "metadata": {
        "id": "tbjxAykZwveS"
      },
      "source": [
        "### When to use a feature store\n",
        "\n"
      ]
    },
    {
      "cell_type": "markdown",
      "metadata": {
        "id": "V4l98iVuJcgE"
      },
      "source": [
        "In most cases feature stores add unnecessary complexity and are well suited for specific ML uses cases. You might even be asking, \"If a feature store is simply making sure the same pre-processing happens on the data, why can't I do that transformation during inference on the raw data?\"\n",
        "\n",
        "There are two scenarios that it isn't viable:\n",
        "\n",
        "\n",
        "*   The first situation is if the feature value will not be known by clients requesting predictions, but has to instead be computed on the server. If the clients requesting predictions will not know the feature values, then we need a mechanism to inject the feature values into incoming prediction requests. The feature store plays that role. For example, one of the features of a dynamic pricing model may be the number of web site visitors to the item listing over the past hour. The client (think of a mobile app) requesting the price of a hotel will not know this feature’s value. This information has to be computed on the server using a streaming pipeline on clickstream data and inserted into the feature store. You can also imagine that if you have to fetch a alot of data, this cannot be done quick enough.\n",
        "\n",
        "* The second situation is to prevent unnecessary copies of the data. For example, consider that you have a feature that is computationally expensive and is used in multiple ML models. Rather than using a transform function and storing the transformed feature in multiple ML training datasets, it is much more efficient and maintainable to store it in a centralized repository.\n",
        "\n",
        "To summarize, a feature-store is most valuable when:\n",
        "\n",
        "* A feature is unknown by user and needs to be fetched/computed server-side\n",
        "* A feature requires intensive computation\n",
        "* A Feature is used by many different models\n",
        "\n",
        "Okay, thats enough english for now. Lets get to the building since I prefer to speak in code"
      ]
    },
    {
      "cell_type": "markdown",
      "metadata": {
        "id": "VXb8YqI0JsUN"
      },
      "source": [
        "## Tutorial\n",
        "\n",
        "\n",
        "\n"
      ]
    },
    {
      "cell_type": "markdown",
      "metadata": {
        "id": "IYFHH6UNQSYp"
      },
      "source": [
        "Throughout this tutorial, we’ll walk through the creation of a production-ready fraud prediction system, end to end. We will be predicting whether a transaction made by a given user will be fraudulent. This prediction will be made in real-time as the user makes the transaction, so we need to be able to generate a prediction at low latency.\n",
        "\n",
        "Our system will perform the following workflows:\n",
        "- Computing and backfilling feature data from raw data\n",
        "- Building point-in-time correct training datasets from feature data and training a model\n",
        "- Making online predictions from feature data\n",
        "\n",
        "We will be using a open-source framework called Feast which is built from the guys a Tecton, one of the leading feature-store companies globally. Tecton is a hosted version of Feast and comes with a few more beneficial features such as monitoring. We will then be deploying our application to AWS.\n",
        "\n",
        "If you don't have it, download the data required for this tutorial from [here](https://drive.google.com/file/d/1MidRYkLdAV-i0qytvsflIcKitK4atiAd/view?usp=sharing). This is originally from a [Kaggle dataset](https://www.kaggle.com/competitions/ieee-fraud-detection/data) for Fraud Detection. Place this dataset in a `data` directory in the root of your project. You can run this notebook either in VS Code or Jupyter Notebooks.\n",
        "\n",
        "We're going to convert this dataset into a format that Feast can understand, a parquet file. We also need to add 2 columns, `event_timestamp` and `created_timestamp`, so that feast can index the data time. We'll do this by min-max normalizing the `TransactionDT` column, assigning a date from a year range (2021) and then adding these columns to the data."
      ]
    },
    {
      "cell_type": "code",
      "execution_count": 8,
      "metadata": {},
      "outputs": [],
      "source": [
        "import pandas as pd\n",
        "from datetime import datetime\n",
        "\n",
        "df = pd.read_csv('data/train_transaction.csv')\n",
        "df[\"TransactionDT\"] = df[\"TransactionDT\"]/df[\"TransactionDT\"].max()\n",
        "\n",
        "start = datetime(2021, 1, 1).timestamp()\n",
        "end = datetime(2022, 1, 1).timestamp()\n",
        "\n",
        "df[\"event_timestamp\"] = pd.to_datetime(df[\"TransactionDT\"].apply(lambda x: round(start + x * (end - start))), unit='s')\n",
        "df[\"created_timestamp\"] = df[\"event_timestamp\"].copy()\n",
        "\n",
        "df = df[[\"ProductCD\", \"TransactionAmt\", \"P_emaildomain\", \"R_emaildomain\", \"card4\", \"M1\", \"M2\", \"M3\", \"created_timestamp\", \"event_timestamp\", \"isFraud\"]]\n",
        "df.to_parquet('data/train_transaction.parquet')"
      ]
    },
    {
      "cell_type": "code",
      "execution_count": 9,
      "metadata": {},
      "outputs": [
        {
          "data": {
            "text/html": [
              "<div>\n",
              "<style scoped>\n",
              "    .dataframe tbody tr th:only-of-type {\n",
              "        vertical-align: middle;\n",
              "    }\n",
              "\n",
              "    .dataframe tbody tr th {\n",
              "        vertical-align: top;\n",
              "    }\n",
              "\n",
              "    .dataframe thead th {\n",
              "        text-align: right;\n",
              "    }\n",
              "</style>\n",
              "<table border=\"1\" class=\"dataframe\">\n",
              "  <thead>\n",
              "    <tr style=\"text-align: right;\">\n",
              "      <th></th>\n",
              "      <th>ProductCD</th>\n",
              "      <th>TransactionAmt</th>\n",
              "      <th>P_emaildomain</th>\n",
              "      <th>R_emaildomain</th>\n",
              "      <th>card4</th>\n",
              "      <th>M1</th>\n",
              "      <th>M2</th>\n",
              "      <th>M3</th>\n",
              "      <th>created_timestamp</th>\n",
              "      <th>event_timestamp</th>\n",
              "      <th>isFraud</th>\n",
              "    </tr>\n",
              "  </thead>\n",
              "  <tbody>\n",
              "    <tr>\n",
              "      <th>0</th>\n",
              "      <td>W</td>\n",
              "      <td>68.50</td>\n",
              "      <td>NaN</td>\n",
              "      <td>NaN</td>\n",
              "      <td>discover</td>\n",
              "      <td>T</td>\n",
              "      <td>T</td>\n",
              "      <td>T</td>\n",
              "      <td>2021-01-02 23:52:09</td>\n",
              "      <td>2021-01-02 23:52:09</td>\n",
              "      <td>0</td>\n",
              "    </tr>\n",
              "    <tr>\n",
              "      <th>1</th>\n",
              "      <td>W</td>\n",
              "      <td>29.00</td>\n",
              "      <td>gmail.com</td>\n",
              "      <td>NaN</td>\n",
              "      <td>mastercard</td>\n",
              "      <td>NaN</td>\n",
              "      <td>NaN</td>\n",
              "      <td>NaN</td>\n",
              "      <td>2021-01-02 23:52:11</td>\n",
              "      <td>2021-01-02 23:52:11</td>\n",
              "      <td>0</td>\n",
              "    </tr>\n",
              "    <tr>\n",
              "      <th>2</th>\n",
              "      <td>W</td>\n",
              "      <td>59.00</td>\n",
              "      <td>outlook.com</td>\n",
              "      <td>NaN</td>\n",
              "      <td>visa</td>\n",
              "      <td>T</td>\n",
              "      <td>T</td>\n",
              "      <td>T</td>\n",
              "      <td>2021-01-02 23:54:26</td>\n",
              "      <td>2021-01-02 23:54:26</td>\n",
              "      <td>0</td>\n",
              "    </tr>\n",
              "    <tr>\n",
              "      <th>3</th>\n",
              "      <td>W</td>\n",
              "      <td>50.00</td>\n",
              "      <td>yahoo.com</td>\n",
              "      <td>NaN</td>\n",
              "      <td>mastercard</td>\n",
              "      <td>NaN</td>\n",
              "      <td>NaN</td>\n",
              "      <td>NaN</td>\n",
              "      <td>2021-01-02 23:55:26</td>\n",
              "      <td>2021-01-02 23:55:26</td>\n",
              "      <td>0</td>\n",
              "    </tr>\n",
              "    <tr>\n",
              "      <th>4</th>\n",
              "      <td>H</td>\n",
              "      <td>50.00</td>\n",
              "      <td>gmail.com</td>\n",
              "      <td>NaN</td>\n",
              "      <td>mastercard</td>\n",
              "      <td>NaN</td>\n",
              "      <td>NaN</td>\n",
              "      <td>NaN</td>\n",
              "      <td>2021-01-02 23:55:40</td>\n",
              "      <td>2021-01-02 23:55:40</td>\n",
              "      <td>0</td>\n",
              "    </tr>\n",
              "    <tr>\n",
              "      <th>...</th>\n",
              "      <td>...</td>\n",
              "      <td>...</td>\n",
              "      <td>...</td>\n",
              "      <td>...</td>\n",
              "      <td>...</td>\n",
              "      <td>...</td>\n",
              "      <td>...</td>\n",
              "      <td>...</td>\n",
              "      <td>...</td>\n",
              "      <td>...</td>\n",
              "      <td>...</td>\n",
              "    </tr>\n",
              "    <tr>\n",
              "      <th>590535</th>\n",
              "      <td>W</td>\n",
              "      <td>49.00</td>\n",
              "      <td>NaN</td>\n",
              "      <td>NaN</td>\n",
              "      <td>visa</td>\n",
              "      <td>T</td>\n",
              "      <td>T</td>\n",
              "      <td>T</td>\n",
              "      <td>2021-12-31 23:57:12</td>\n",
              "      <td>2021-12-31 23:57:12</td>\n",
              "      <td>0</td>\n",
              "    </tr>\n",
              "    <tr>\n",
              "      <th>590536</th>\n",
              "      <td>W</td>\n",
              "      <td>39.50</td>\n",
              "      <td>gmail.com</td>\n",
              "      <td>NaN</td>\n",
              "      <td>mastercard</td>\n",
              "      <td>T</td>\n",
              "      <td>F</td>\n",
              "      <td>F</td>\n",
              "      <td>2021-12-31 23:57:16</td>\n",
              "      <td>2021-12-31 23:57:16</td>\n",
              "      <td>0</td>\n",
              "    </tr>\n",
              "    <tr>\n",
              "      <th>590537</th>\n",
              "      <td>W</td>\n",
              "      <td>30.95</td>\n",
              "      <td>gmail.com</td>\n",
              "      <td>NaN</td>\n",
              "      <td>mastercard</td>\n",
              "      <td>T</td>\n",
              "      <td>F</td>\n",
              "      <td>F</td>\n",
              "      <td>2021-12-31 23:58:16</td>\n",
              "      <td>2021-12-31 23:58:16</td>\n",
              "      <td>0</td>\n",
              "    </tr>\n",
              "    <tr>\n",
              "      <th>590538</th>\n",
              "      <td>W</td>\n",
              "      <td>117.00</td>\n",
              "      <td>aol.com</td>\n",
              "      <td>NaN</td>\n",
              "      <td>mastercard</td>\n",
              "      <td>T</td>\n",
              "      <td>T</td>\n",
              "      <td>T</td>\n",
              "      <td>2021-12-31 23:58:34</td>\n",
              "      <td>2021-12-31 23:58:34</td>\n",
              "      <td>0</td>\n",
              "    </tr>\n",
              "    <tr>\n",
              "      <th>590539</th>\n",
              "      <td>W</td>\n",
              "      <td>279.95</td>\n",
              "      <td>gmail.com</td>\n",
              "      <td>NaN</td>\n",
              "      <td>mastercard</td>\n",
              "      <td>T</td>\n",
              "      <td>F</td>\n",
              "      <td>F</td>\n",
              "      <td>2022-01-01 00:00:00</td>\n",
              "      <td>2022-01-01 00:00:00</td>\n",
              "      <td>0</td>\n",
              "    </tr>\n",
              "  </tbody>\n",
              "</table>\n",
              "<p>590540 rows × 11 columns</p>\n",
              "</div>"
            ],
            "text/plain": [
              "       ProductCD  TransactionAmt P_emaildomain R_emaildomain       card4   M1  \\\n",
              "0              W           68.50           NaN           NaN    discover    T   \n",
              "1              W           29.00     gmail.com           NaN  mastercard  NaN   \n",
              "2              W           59.00   outlook.com           NaN        visa    T   \n",
              "3              W           50.00     yahoo.com           NaN  mastercard  NaN   \n",
              "4              H           50.00     gmail.com           NaN  mastercard  NaN   \n",
              "...          ...             ...           ...           ...         ...  ...   \n",
              "590535         W           49.00           NaN           NaN        visa    T   \n",
              "590536         W           39.50     gmail.com           NaN  mastercard    T   \n",
              "590537         W           30.95     gmail.com           NaN  mastercard    T   \n",
              "590538         W          117.00       aol.com           NaN  mastercard    T   \n",
              "590539         W          279.95     gmail.com           NaN  mastercard    T   \n",
              "\n",
              "         M2   M3   created_timestamp     event_timestamp  isFraud  \n",
              "0         T    T 2021-01-02 23:52:09 2021-01-02 23:52:09        0  \n",
              "1       NaN  NaN 2021-01-02 23:52:11 2021-01-02 23:52:11        0  \n",
              "2         T    T 2021-01-02 23:54:26 2021-01-02 23:54:26        0  \n",
              "3       NaN  NaN 2021-01-02 23:55:26 2021-01-02 23:55:26        0  \n",
              "4       NaN  NaN 2021-01-02 23:55:40 2021-01-02 23:55:40        0  \n",
              "...     ...  ...                 ...                 ...      ...  \n",
              "590535    T    T 2021-12-31 23:57:12 2021-12-31 23:57:12        0  \n",
              "590536    F    F 2021-12-31 23:57:16 2021-12-31 23:57:16        0  \n",
              "590537    F    F 2021-12-31 23:58:16 2021-12-31 23:58:16        0  \n",
              "590538    T    T 2021-12-31 23:58:34 2021-12-31 23:58:34        0  \n",
              "590539    F    F 2022-01-01 00:00:00 2022-01-01 00:00:00        0  \n",
              "\n",
              "[590540 rows x 11 columns]"
            ]
          },
          "execution_count": 9,
          "metadata": {},
          "output_type": "execute_result"
        }
      ],
      "source": [
        "df"
      ]
    },
    {
      "cell_type": "markdown",
      "metadata": {
        "id": "XpAl9Jr0U5P9"
      },
      "source": [
        "### Setup AWS Infrastructure\n"
      ]
    },
    {
      "cell_type": "markdown",
      "metadata": {
        "id": "beuzt4Pd3hwL"
      },
      "source": [
        "Since infrastructure and architecture are not the purpose of this tutorial we will use [Terraform](https://www.terraform.io) to quickly setup our infrastructure in AWS to continue with the rest of the tutorial.\n",
        "\n",
        "Without deviating too much let me just explain quickly what terraform is and the different components we set up:\n",
        "\n",
        "\n",
        "*   Terraform is a infrastructure as code tool that allows you to create and change infrastructure predictably. In plain english, think of it as a setup definition file and with one command you can create a development and production environment that are exact replicas of eachother.\n",
        "\n",
        "The following is created from the terraform file:\n",
        "\n",
        "*   **S3 bucket** - this is where we are storing our data files to be using in this tutorial\n",
        "* **Redshift cluster** - this is the AWS data warehouse we will be using\n",
        "* **AWS Glue** - this is the AWS ELT tool that we will use to get our data from S3 to redshit.\n",
        "* **AWS IAM Roles** - We create the roles thats needed for these 3 resources to interact.\n",
        "\n",
        "Okay enough geeking out on Terraform - lets code!\n"
      ]
    },
    {
      "cell_type": "markdown",
      "metadata": {
        "id": "Ppqtno2O6cf6"
      },
      "source": [
        "We need to setup our AWS credentials in order to deploy this terraform setup to our account. To start make sure you have your AWS_ACCESS_KEY_ID and AWS_SECRET_ACCESS_KEY environment variables setup. If not, go to your AWS console and follow the instructions below:\n",
        "\n",
        "*   Go to the IAm service\n",
        "*   Click \"*Users*\" in the sidebar\n",
        "*   Go through the steps to creat a user and attach the following policies below.\n",
        "\n",
        "If you already have a user, make sure you have the following permissions:\n",
        "\n",
        "*   AmazonRedshiftDataFullAccess\n",
        "*   AmazonS3FullAccess\n",
        "*   AWSGlueConsoleFullAccess\n",
        "*   IAMFullAccess\n",
        "\n",
        "Once a user is created, you can click on your user and go to the tab that says \"*Security Credentials*\". Scroll down and click the button that says \"Create access key\". You should then see a *Access Key* and *Secret Key* generated for you.\n",
        "\n",
        "Run the code below in your terminal pasting in the generated keys:\n",
        "```bash\n",
        "export AWS_ACCESS_KEY_ID=<your-access-key>\n",
        "export AWS_SECRET_ACCESS_KEY=<your-secret-key>\n",
        "```\n"
      ]
    },
    {
      "cell_type": "markdown",
      "metadata": {
        "id": "KY4Aetp09FfV"
      },
      "source": [
        "Install the Terraform framework. We use Homebrew on macOS but you may install it however you like.\n",
        "```bash\n",
        "brew install terraform\n",
        "```"
      ]
    },
    {
      "cell_type": "markdown",
      "metadata": {
        "id": "JFmcfGRr9Tkv"
      },
      "source": [
        "In your terminal, go to the \"infra\" folder that came along with this tutorial. We are going to initialise Terraform in this folder and apply the plan. Name the project \"fraud-classifier\".\n",
        "\n",
        "```bash\n",
        "cd infra\n",
        "terraform init\n",
        "export TF_VAR_region=\"us-west-2\"\n",
        "export TF_VAR_project_name=\"fraud-classifier\"\n",
        "terraform apply -var=\"admin_password=thisISTestPassword1\"\n",
        "```"
      ]
    },
    {
      "cell_type": "markdown",
      "metadata": {
        "id": "h7jUTW4eACg4"
      },
      "source": [
        "Once your infrastructure is deployed you should see the following fields in your output in your terminal. Save these, we will need them.\n",
        "- `redshift_cluster_identifier`\n",
        "- `redshift_spectrum_arn`\n",
        "- `transaction_features_table`"
      ]
    },
    {
      "cell_type": "markdown",
      "metadata": {},
      "source": [
        "We are now going to create a Glue job to get our data from S3 to Redshift, creeating a schema called `spectrum`. Use the values from the previous output.\n",
        "\n",
        "```bash\n",
        "#run the following in your terminal\n",
        "aws redshift-data execute-statement \\\n",
        "--region us-west-2 \\\n",
        "--cluster-identifier <redshift_cluster_identifier> \\\n",
        "--db-user admin \\\n",
        "--database dev \\\n",
        "--sql \"create external schema spectrum from data catalog database 'dev' iam_role '<redshift_spectrum_arn>' create external database if not exists;\"\n",
        "```"
      ]
    },
    {
      "cell_type": "markdown",
      "metadata": {
        "id": "G9BpGU90KPsu"
      },
      "source": [
        "You should then get a JSON result back. Grab the `Id` field returned, and run a `describe-statement` below with that value to check if the job completed successfully. You should see a `Status` of `FINISHED`.\n",
        "\n",
        "```bash\n",
        "aws redshift-data describe-statement --id <Id> --region us-west-2\n",
        "```\n",
        "\n",
        "If that is all running successfully then we are done with our AWS setup!"
      ]
    },
    {
      "cell_type": "markdown",
      "metadata": {
        "id": "HJkgR8cRKc6y"
      },
      "source": [
        "### Feast"
      ]
    },
    {
      "cell_type": "markdown",
      "metadata": {
        "id": "cVLpSnxbah5N"
      },
      "source": [
        "To get started, let us install the Feast framework. Feast can be installed using pip. Make sure you `cd` back into the root of the project.\n",
        "```bash\n",
        "pip install feast\n",
        "```\n",
        "\n",
        "In Feast, you define your features using a .yaml file in a repository. To create a repository run the command below and follow the prompts. The redshift database name will be `dev` and the user will be `admin`. For the staging location, use the `fraud-classifier-bucket` bucket that was created in plan. Use `s3_spectrum_role` as the S3 IAM role.\n",
        "\n",
        "```bash\n",
        "cd ..\n",
        "feast init -t aws feature_repo\n",
        "```\n",
        "\n",
        "This will create a few files in a folder called **feature_repo** that are mostly example files (you can delete driver_repo.py and test.py if you would like) but we only care about:\n",
        "\n",
        "- **feature_store.yaml**: This is a configuration file where you will define the location of your Redshift cluster, S3 bucket and DynamoDB Database.\n",
        "\n",
        "This file contains the following fields:\n",
        "\n",
        "* **project**: The name you would like to call the project.\n",
        "* **registry**: The registry is a central catalog of all the feature definitions and their related metadata. It is a file that you can interact with through the Feast API\n",
        "*   **provider**: The cloud provider you are using - in our case AWS\n",
        "*   **online_store**: The Online store is used for low-latency online feature value lookups. Feature values are loaded into the online store from data sources. Online stores only hold the latest values per entity key. An online store would be something such as Redis or DynamoDB - low latency.\n",
        "* **offline_store**: The offline stores store historic feature values and does not generate these values. The offline store is used as the interface for querying existing features or loading these features into an online store for low latency prediction. An offline store would be something like a data warehouse or storage bucket - high latency and a alot of historical data.\n",
        "\n",
        "Since we are using AWS, we have used *aws* in the command. However, you can replace that with other cloud providers (e.g. Google Cloud you can use *gcp*). Run the commands below in your terminal, if you run it in this notebook it will create the folders in here. Create a folder and change to it in your command line and run the command below:"
      ]
    },
    {
      "cell_type": "markdown",
      "metadata": {
        "id": "dNhC9VF-kFaY"
      },
      "source": [
        "Within the **feature_repo** folder, create a file called `features.py` in which we will define our features. Before we get started, we need to understand the concept of an *Entity* and *FeatureView*:\n",
        "\n",
        "*   **Entity**: An entity is a collection of semantically related features. For example, Uber would have customers and drivers as two seperate entities that group features that correspond to those entities.\n",
        "*   **FeatureView**: A feature view is an object that represents a logical group of time-series feature data as it is found in a data source. They consist of zero or more entities, one or more features and a data source.\n",
        "\n",
        "Fill the file with the following contents:\n",
        "\n",
        "```python\n",
        "from datetime import timedelta\n",
        "from feast import (Entity, Feature, FeatureView, RedshiftSource,\n",
        "                   ValueType)\n",
        "\n",
        "transaction = Entity(name=\"transactions\", value_type=ValueType.STRING)\n",
        "\n",
        "transaction_source = RedshiftSource(\n",
        "    query=\"SELECT * FROM spectrum.transaction_features\",\n",
        "    event_timestamp_column=\"event_timestamp\",\n",
        "    created_timestamp_column=\"created_timestamp\",\n",
        ")\n",
        "\n",
        "transaction_features = FeatureView(\n",
        "    name=\"transaction_features\",\n",
        "    entities=[\"transaction\"],\n",
        "    ttl=timedelta(days=365),\n",
        "    features=[\n",
        "        Feature(name=\"ProductCD\", dtype=ValueType.STRING),\n",
        "        Feature(name=\"TransactionAmt\", dtype=ValueType.DOUBLE),\n",
        "        Feature(name=\"P_emaildomain\", dtype=ValueType.STRING),\n",
        "        Feature(name=\"R_emaildomain\", dtype=ValueType.STRING),\n",
        "        Feature(name=\"card4\", dtype=ValueType.STRING),\n",
        "        Feature(name=\"M1\", dtype=ValueType.STRING),\n",
        "        Feature(name=\"M2\", dtype=ValueType.STRING),\n",
        "        Feature(name=\"M3\", dtype=ValueType.STRING)\n",
        "    ],\n",
        "    batch_source=transaction_source,\n",
        ")\n",
        "```"
      ]
    },
    {
      "cell_type": "markdown",
      "metadata": {
        "id": "8OSRJtZ_rSyM"
      },
      "source": [
        "First we create our *transaction* entity and define the SQL that will fetch the required features from our Redshift data warehouse. We then create a featureView that uses the Redshift instance to fetch the features and define the data type for each feature. We also define the time we would like the feature to contain. In this case we want 1 year worth of data which is 365 days."
      ]
    },
    {
      "cell_type": "markdown",
      "metadata": {
        "id": "cG5XPr__dyKM"
      },
      "source": [
        "Deploy the feature store by running apply from within the feature/ folder.\n",
        "\n",
        "```bash\n",
        "cd feature_repo\n",
        "feast apply\n",
        "```"
      ]
    },
    {
      "cell_type": "markdown",
      "metadata": {
        "id": "TVxF7s9oB-EH"
      },
      "source": [
        "If everything was created correctly, you would have seen the following output:"
      ]
    },
    {
      "cell_type": "code",
      "execution_count": null,
      "metadata": {
        "id": "beodYs1PCDEr"
      },
      "outputs": [],
      "source": [
        "#Created entity zipcode\n",
        "#Created entity dob_ssn\n",
        "#Created feature view credit_history\n",
        "#Created feature view zipcode_features\n",
        "\n",
        "#Deploying infrastructure for credit_history\n",
        "#Deploying infrastructure for zipcode_features"
      ]
    },
    {
      "cell_type": "markdown",
      "metadata": {
        "id": "ALWd7-r7cj6n"
      },
      "source": [
        "Next we load our features into the online store using the materialize-incremental command. This command will load the latest feature values from a data source into the online store from the last materialize call."
      ]
    },
    {
      "cell_type": "code",
      "execution_count": null,
      "metadata": {
        "id": "ww0kqHnru566"
      },
      "outputs": [],
      "source": [
        "CURRENT_TIME=$(date -u +\"%Y-%m-%dT%H:%M:%S\")\n",
        "feast materialize-incremental $CURRENT_TIME"
      ]
    },
    {
      "cell_type": "markdown",
      "metadata": {
        "id": "qM2yRozawF4p"
      },
      "source": [
        "If successful, you should see some activity in your terminal that its uploading the features. Once completed, you should see the results in our DynamoDB instance on AWS. "
      ]
    },
    {
      "cell_type": "markdown",
      "metadata": {
        "id": "CuPaZtS0wQut"
      },
      "source": [
        "### Model Building"
      ]
    },
    {
      "cell_type": "markdown",
      "metadata": {
        "id": "vzzOaPhxwUYl"
      },
      "source": [
        "In the repo, we have two files with respect to our model:\n",
        "\n",
        "*   *run.py*: This is a helper file that is going through the full model workflow. It fetches the historical loan data, trains our model and then makes a prediction to determine if the loan was approved or not.\n",
        "*   *credit_model.py*: This file shows you how we use Feast during our model building as well as during our inference. \n",
        "\n",
        "We will go through the code below"
      ]
    },
    {
      "cell_type": "code",
      "execution_count": null,
      "metadata": {
        "id": "AZOcZJaOu8OD"
      },
      "outputs": [],
      "source": [
        "#run.py\n",
        "import boto3\n",
        "import pandas as pd\n",
        "\n",
        "#Import Class that contains most of the functionality\n",
        "from fraud_detection_model import FraudClassifierModel\n",
        "\n",
        "# Get historic transaction data\n",
        "transactions = pd.read_parquet(\"data/train_transaction.parquet\")\n",
        "\n",
        "# Create model\n",
        "model = FraudClassifierModel\n",
        "\n",
        "# Train model (using Redshift for zipcode and credit history features)\n",
        "if not model.is_model_trained():\n",
        "    model.train(transactions)\n",
        "\n",
        "# Make online prediction (using DynamoDB for retrieving online features)\n",
        "transaction_request = {\n",
        "    \"ProductCD\": [\"W\"],\n",
        "    \"P_emaildomain\": [\"live\"],\n",
        "    \"R_emaildomain\": [None],\n",
        "    \"card4\": [\"visa\"],\n",
        "    \"M1\": [\"T\"],\n",
        "    \"M2\": [\"T\"],\n",
        "    \"M3\": [\"T\"]\n",
        "}\n",
        "\n",
        "result = model.predict(transaction_request)\n",
        "\n",
        "if result == 0:\n",
        "    print(\"Non-Fraudeluent Transaction\")\n",
        "elif result == 1:\n",
        "    print(\"Fradulent Transaction\")"
      ]
    },
    {
      "cell_type": "markdown",
      "metadata": {
        "id": "Fr_5uGgY0QKK"
      },
      "source": [
        "In the credit_model.py we won't go through the entire file but rather just snippets in the file. \n",
        "\n",
        "We start by defining our model features which we do by specifiying the [entity name]: [column name]."
      ]
    },
    {
      "cell_type": "code",
      "execution_count": null,
      "metadata": {
        "id": "GGlRuHcm0l7c"
      },
      "outputs": [],
      "source": [
        "#line 21\n",
        "feast_features = [\n",
        "        \"transaction_features:ProductCD\",\n",
        "        \"transaction_features:isFraud\",\n",
        "        \"transaction_features:P_emaildomain\",\n",
        "        \"transaction_features:R_emaildomain\",\n",
        "        \"transaction_features:card4\",\n",
        "        \"transaction_features:M1\",\n",
        "        \"transaction_features:M2\",\n",
        "        \"transaction_features:M3\"\n",
        "    ]"
      ]
    },
    {
      "cell_type": "markdown",
      "metadata": {
        "id": "vqfhg1cI08LW"
      },
      "source": [
        "During the initialisation of our model we attach the feature store to our model object to use later. The repo path is where the folder that contains our feature_store.yaml and example.py that we created above - Feast fetches the configuration from there."
      ]
    },
    {
      "cell_type": "code",
      "execution_count": null,
      "metadata": {
        "id": "tj4_9b-v1BhA"
      },
      "outputs": [],
      "source": [
        "#57\n",
        "self.fs = feast.FeatureStore(repo_path=\"feature_repo\")"
      ]
    },
    {
      "cell_type": "markdown",
      "metadata": {
        "id": "iRpqFpJC1gtW"
      },
      "source": [
        "When we would like to train our model, we want to get the historical data relating to our features. The method below launches a job that executes a join of features from the offline store onto the entity dataframe. \n",
        "\n",
        "An entity dataframe is the target dataframe on which you would like to join feature values. The entity dataframe must contain a timestamp column called event_timestamp and all entities (primary keys) necessary to join feature tables onto. All entities found in feature views that are being joined onto the entity dataframe must be found as column on the entity dataframe.\n",
        "\n",
        "Once completed, a job reference will be returned. This job reference can then be converted to a Pandas dataframe by calling to_df()."
      ]
    },
    {
      "cell_type": "code",
      "execution_count": null,
      "metadata": {
        "id": "juEk054b1hzY"
      },
      "outputs": [],
      "source": [
        "#line 66\n",
        "training_df = self.fs.get_historical_features(\n",
        "            entity_df=loans, features=self.feast_features\n",
        "        ).to_df()"
      ]
    },
    {
      "cell_type": "markdown",
      "metadata": {
        "id": "qOzPsPbP4ZWW"
      },
      "source": [
        "When we do online inference (prediction) using our model, we don't want to have to fetch all the historical data or anything really from our data warehouse since that will take multiple seconds. Rather we want to get the data we need from a low-latency data-source so we can have a low response time (~100ms). We do that below with the get_online_features function."
      ]
    },
    {
      "cell_type": "code",
      "execution_count": null,
      "metadata": {
        "id": "Ng3ALAeR4YYv"
      },
      "outputs": [],
      "source": [
        "#line 123\n",
        "return self.fs.get_online_features(\n",
        "    entity_rows=[{\"transaction\": transaction}],\n",
        "    features=self.feast_features,\n",
        ").to_dict()"
      ]
    },
    {
      "cell_type": "markdown",
      "metadata": {
        "id": "ATIpmj7S8Sqo"
      },
      "source": [
        "The above allows me to pass in the specific transaction and get the feature values for this user instantaneously. We can then use these values in our predict *function* to return what we predicted for the loan\n",
        "\n",
        "Now let us run our run.py file to see this live and the output of our model"
      ]
    },
    {
      "cell_type": "code",
      "execution_count": 2,
      "metadata": {
        "colab": {
          "base_uri": "https://localhost:8080/"
        },
        "id": "9cMhhiu9x5F9",
        "outputId": "5f39428b-7554-408f-872d-291e24191563"
      },
      "outputs": [
        {
          "name": "stdout",
          "output_type": "stream",
          "text": [
            "python3: can't open file 'run.py': [Errno 2] No such file or directory\n"
          ]
        }
      ],
      "source": [
        "python run.py\n",
        "\n",
        "#Output\n",
        "\n",
        "#loan rejected!"
      ]
    },
    {
      "cell_type": "markdown",
      "metadata": {
        "id": "XXYwtNBnNVu8"
      },
      "source": [
        "## Conclusion"
      ]
    },
    {
      "cell_type": "markdown",
      "metadata": {
        "id": "50zf2nDqNZZT"
      },
      "source": [
        "That's it for our tutorial on feature stores! As I am sure you can tell, feature stores can add a lot of value to your ML infrastructure when it comes to using the same features across multiple models as well as doing server-side feature calculations however can add some complxity. Using Feast is great to implement this but if you want a more managed approach with extra functionality such as identifying model drift then you can try Tecton, or the the features stores that are native to the AWS and Google platforms."
      ]
    }
  ],
  "metadata": {
    "colab": {
      "collapsed_sections": [
        "D1dwtH_4Qbe5",
        "qzOSuB-P-rz6",
        "tbjxAykZwveS",
        "VXb8YqI0JsUN",
        "XpAl9Jr0U5P9",
        "HJkgR8cRKc6y",
        "XXYwtNBnNVu8"
      ],
      "name": "Feature Store.ipynb",
      "provenance": []
    },
    "kernelspec": {
      "display_name": "Python 3.9.12 ('base')",
      "language": "python",
      "name": "python3"
    },
    "language_info": {
      "codemirror_mode": {
        "name": "ipython",
        "version": 3
      },
      "file_extension": ".py",
      "mimetype": "text/x-python",
      "name": "python",
      "nbconvert_exporter": "python",
      "pygments_lexer": "ipython3",
      "version": "3.9.12"
    },
    "vscode": {
      "interpreter": {
        "hash": "8f7fc29b09bceb45b96f31c421af977920dd07416ec6e051f1e8d585e72b0202"
      }
    }
  },
  "nbformat": 4,
  "nbformat_minor": 0
}
